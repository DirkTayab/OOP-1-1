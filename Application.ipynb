{
  "nbformat": 4,
  "nbformat_minor": 0,
  "metadata": {
    "colab": {
      "name": "Application.ipynb",
      "provenance": [],
      "authorship_tag": "ABX9TyOIeUsED/t70zmVL13USoOh",
      "include_colab_link": true
    },
    "kernelspec": {
      "name": "python3",
      "display_name": "Python 3"
    },
    "language_info": {
      "name": "python"
    }
  },
  "cells": [
    {
      "cell_type": "markdown",
      "metadata": {
        "id": "view-in-github",
        "colab_type": "text"
      },
      "source": [
        "<a href=\"https://colab.research.google.com/github/DirkTayab/OOP-1-1/blob/main/Application.ipynb\" target=\"_parent\"><img src=\"https://colab.research.google.com/assets/colab-badge.svg\" alt=\"Open In Colab\"/></a>"
      ]
    },
    {
      "cell_type": "code",
      "execution_count": 8,
      "metadata": {
        "colab": {
          "base_uri": "https://localhost:8080/"
        },
        "id": "kpZhTQgzMAIT",
        "outputId": "4c2c3551-f258-46eb-fb2e-0fdc7390b8d5"
      },
      "outputs": [
        {
          "output_type": "stream",
          "name": "stdout",
          "text": [
            " Student Term Grades (Prelim, Midterms, Finals):\n",
            "Student 1 88 89 87\n",
            "Student 2: 88 87 90\n",
            "Student 3: 91 90 92\n",
            " Student Term Average: \n",
            "Student 1:  88.0\n",
            "Student 2:  88.33\n",
            "Student 3:  91.00\n"
          ]
        }
      ],
      "source": [
        "class Person:\n",
        "  def __init__(self, std, pre, mid, fin):\n",
        "    self.__std = std\n",
        "    self.__pre = pre\n",
        "    self.__mid = mid\n",
        "    self.__fin = fin\n",
        "\n",
        "  def Term(self):\n",
        "    print(self.__std, self.__pre, self.__mid, self.__fin)\n",
        "\n",
        "  print(\" Student Term Grades (Prelim, Midterms, Finals):\")\n",
        "stu1 = Person(\"Student 1\", 88, 89, 87)\n",
        "stu2 = Person(\"Student 2:\", 88, 87, 90)\n",
        "stu3 = Person(\"Student 3:\", 91, 90, 92)\n",
        "stu1.Term()\n",
        "stu2.Term()\n",
        "stu3.Term()\n",
        "\n",
        "class Student(Person):\n",
        "  def __init__(self, pre, mid, fin):\n",
        "    self.__pre = pre\n",
        "    self.__mid = mid\n",
        "    self.__fin = fin\n",
        "\n",
        "  def Grade(self):\n",
        "    return ((self.__pre + self.__mid + self.__fin)/3)\n",
        "\n",
        "print(\" Student Term Average: \")\n",
        "std1 = Student(88, 89, 87)\n",
        "print(\"Student 1: \", round(std1.Grade(), 2))\n",
        "std2 = Student(88, 87, 90)\n",
        "print(\"Student 2: \", round(std2.Grade(), 2))\n",
        "std3 = Student(91, 90, 92)\n",
        "print(\"Student 3: \", \"{:.2f}\".format(std3.Grade(), 2))"
      ]
    }
  ]
}