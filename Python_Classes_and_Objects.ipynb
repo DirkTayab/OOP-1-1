{
  "nbformat": 4,
  "nbformat_minor": 0,
  "metadata": {
    "colab": {
      "name": "Python Classes and Objects",
      "provenance": [],
      "authorship_tag": "ABX9TyOyI7DuflV5QVwjEYrxCddK",
      "include_colab_link": true
    },
    "kernelspec": {
      "name": "python3",
      "display_name": "Python 3"
    },
    "language_info": {
      "name": "python"
    }
  },
  "cells": [
    {
      "cell_type": "markdown",
      "metadata": {
        "id": "view-in-github",
        "colab_type": "text"
      },
      "source": [
        "<a href=\"https://colab.research.google.com/github/DirkTayab/OOP-1-1/blob/main/Python_Classes_and_Objects.ipynb\" target=\"_parent\"><img src=\"https://colab.research.google.com/assets/colab-badge.svg\" alt=\"Open In Colab\"/></a>"
      ]
    },
    {
      "cell_type": "markdown",
      "source": [
        "Class"
      ],
      "metadata": {
        "id": "0IEGkxd0zXba"
      }
    },
    {
      "cell_type": "code",
      "source": [
        "class beep:\n",
        "    pass"
      ],
      "metadata": {
        "id": "irNVfbTkzaSr"
      },
      "execution_count": 2,
      "outputs": []
    },
    {
      "cell_type": "code",
      "source": [
        "class beep:\n",
        "  def __init__(self,name,age):\n",
        "    self.name = name\n",
        "    self.age = age\n",
        "\n",
        "def display(self):\n",
        "  print(self.name, self.age)\n",
        "\n",
        "person = beep(\"Dirk M. Tayab\", 19)\n",
        "print(person.name, person.age)"
      ],
      "metadata": {
        "colab": {
          "base_uri": "https://localhost:8080/"
        },
        "id": "OhVn6fkUzxpy",
        "outputId": "e4fcd350-7c8b-4a2a-9cb1-a28b25878464"
      },
      "execution_count": 14,
      "outputs": [
        {
          "output_type": "stream",
          "name": "stdout",
          "text": [
            "Dirk Tayab 19\n"
          ]
        }
      ]
    },
    {
      "cell_type": "code",
      "source": [
        "#Rectangle Area A = l*w\n",
        "class Rectangle:\n",
        "    def __init__(self,l,w):\n",
        "      self.l = l\n",
        "      self.w = w\n",
        "\n",
        "    def Area(self):\n",
        "      print(self.l * self.w)\n",
        "\n",
        "rect = Rectangle(8, 2)\n",
        "rect.Area()"
      ],
      "metadata": {
        "colab": {
          "base_uri": "https://localhost:8080/"
        },
        "id": "7tn6DBYt3oz6",
        "outputId": "5be6394c-f17e-4b0e-d25d-76df9dfeef75"
      },
      "execution_count": 17,
      "outputs": [
        {
          "output_type": "stream",
          "name": "stdout",
          "text": [
            "16\n"
          ]
        }
      ]
    }
  ]
}