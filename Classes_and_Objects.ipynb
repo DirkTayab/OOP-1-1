{
  "nbformat": 4,
  "nbformat_minor": 0,
  "metadata": {
    "colab": {
      "name": "Classes and Objects",
      "provenance": [],
      "authorship_tag": "ABX9TyPCMMlskt1HfXBEAh+EQMo0",
      "include_colab_link": true
    },
    "kernelspec": {
      "name": "python3",
      "display_name": "Python 3"
    },
    "language_info": {
      "name": "python"
    }
  },
  "cells": [
    {
      "cell_type": "markdown",
      "metadata": {
        "id": "view-in-github",
        "colab_type": "text"
      },
      "source": [
        "<a href=\"https://colab.research.google.com/github/DirkTayab/OOP-1-1/blob/main/Classes_and_Objects.ipynb\" target=\"_parent\"><img src=\"https://colab.research.google.com/assets/colab-badge.svg\" alt=\"Open In Colab\"/></a>"
      ]
    },
    {
      "cell_type": "markdown",
      "source": [
        "Application #2"
      ],
      "metadata": {
        "id": "6pAZIpGs4wrB"
      }
    },
    {
      "cell_type": "code",
      "source": [
        "class OOP_1_1():\n",
        "    def __init__(self, fname, student_no, age, course, school):\n",
        "      self.fname = fname\n",
        "      self.student_no = student_no\n",
        "      self.age = age\n",
        "      self.course = course\n",
        "      self.school = school\n",
        "    \n",
        "    def info(self):\n",
        "      print(self.fname, self.student_no, self.age, self.course, self.school)\n",
        "\n",
        "student = OOP_1_1(\"Dirk M Tayab\", 202102048, 19, \"BSCPE\", \"CvSU\")\n",
        "student.info()"
      ],
      "metadata": {
        "colab": {
          "base_uri": "https://localhost:8080/"
        },
        "id": "6PEytDNT40Me",
        "outputId": "e0760c42-e25b-4adc-ab40-781166d754b4"
      },
      "execution_count": 36,
      "outputs": [
        {
          "output_type": "stream",
          "name": "stdout",
          "text": [
            "Dirk M Tayab,  202102048 19 BSCPE CvSU\n"
          ]
        }
      ]
    },
    {
      "cell_type": "code",
      "source": [
        "class OOP_1_1():\n",
        "    def __init__(self, fname, student_no, age, course, school):\n",
        "      self.fname = fname\n",
        "      self.student_no = student_no\n",
        "      self.age = age\n",
        "      self.course = course\n",
        "      self.school = school\n",
        "    \n",
        "    def info(self):\n",
        "      print(\"Name: \", self.fname)\n",
        "      print(\"School Number: \", self.student_no)\n",
        "      print(\"Age: \", self.age)\n",
        "      print(\"Course: \", self.course)\n",
        "      print(\"School: \", self.school)\n",
        "\n",
        "student = OOP_1_1(\"Dirk M Tayab\", 202102048, 19, \"BSCPE\", \"CvSU\")\n",
        "student.info()"
      ],
      "metadata": {
        "colab": {
          "base_uri": "https://localhost:8080/"
        },
        "id": "7QrE2evP2pQ7",
        "outputId": "a0434d9e-dcf9-4b93-e251-ca0587a299e8"
      },
      "execution_count": 26,
      "outputs": [
        {
          "output_type": "stream",
          "name": "stdout",
          "text": [
            "Name:  Dirk M Tayab\n",
            "School Number:  202102048\n",
            "Age:  19\n",
            "Course:  BSCPE\n",
            "School:  CvSU\n"
          ]
        }
      ]
    },
    {
      "cell_type": "markdown",
      "source": [
        "Application #3: Circle Area & Perimeter"
      ],
      "metadata": {
        "id": "OIDJspPf7Ny0"
      }
    },
    {
      "cell_type": "code",
      "source": [
        "import math\n",
        "#Area of Circle\n",
        "class Circle():\n",
        "  def __init__(self, radius):\n",
        "    self.radius = radius\n",
        "  \n",
        "  def Area(self):\n",
        "    print(math.pi * self.radius**2)\n",
        "\n",
        "c = Circle(20)\n",
        "c.Area()"
      ],
      "metadata": {
        "id": "aHxa72Kv7UWI"
      },
      "execution_count": null,
      "outputs": []
    },
    {
      "cell_type": "code",
      "source": [
        "#Perimeter of Circle\n",
        "class Circle():\n",
        "  def __init__(self, radius):\n",
        "    self.radius = radius\n",
        "  \n",
        "  def Perimeter(self):\n",
        "    print(2 * math.pi * self.radius)\n",
        "\n",
        "c = Circle(50)\n",
        "c.Perimeter()"
      ],
      "metadata": {
        "id": "SonlOwEm9tol"
      },
      "execution_count": null,
      "outputs": []
    },
    {
      "cell_type": "code",
      "source": [
        "#One Cell\n",
        "class Circle():\n",
        "  def __init__(self, radius):\n",
        "    self.radius = radius\n",
        "  \n",
        "  def Area(self):\n",
        "    print(\"Area: \", math.pi * self.radius**2)\n",
        "  def Perimeter(self):\n",
        "    print(\"Perimeter: \", 2 * math.pi * self.radius)\n",
        "\n",
        "c = Circle(24)\n",
        "c.Area()\n",
        "c.Perimeter()"
      ],
      "metadata": {
        "id": "NHSQ4GpQ--3a"
      },
      "execution_count": null,
      "outputs": []
    }
  ]
}