{
  "nbformat": 4,
  "nbformat_minor": 0,
  "metadata": {
    "colab": {
      "name": "Classes and Objects",
      "provenance": [],
      "authorship_tag": "ABX9TyOtNB3z3wzXfy0zjxvp8S+S",
      "include_colab_link": true
    },
    "kernelspec": {
      "name": "python3",
      "display_name": "Python 3"
    },
    "language_info": {
      "name": "python"
    }
  },
  "cells": [
    {
      "cell_type": "markdown",
      "metadata": {
        "id": "view-in-github",
        "colab_type": "text"
      },
      "source": [
        "<a href=\"https://colab.research.google.com/github/DirkTayab/OOP-1-1/blob/main/Classes_and_Objects.ipynb\" target=\"_parent\"><img src=\"https://colab.research.google.com/assets/colab-badge.svg\" alt=\"Open In Colab\"/></a>"
      ]
    },
    {
      "cell_type": "markdown",
      "source": [
        "Application #2"
      ],
      "metadata": {
        "id": "6pAZIpGs4wrB"
      }
    },
    {
      "cell_type": "code",
      "source": [
        "class OOP_1_1():\n",
        "    def __init__(self, fname, student_no, age, course, school):\n",
        "      self.fname = fname\n",
        "      self.student_no = student_no\n",
        "      self.age = age\n",
        "      self.course = course\n",
        "      self.school = school\n",
        "    \n",
        "    def info(self):\n",
        "      print(self.fname, self.student_no, self.age, self.course, self.school)\n",
        "\n",
        "student = OOP_1_1(\"Dirk M Tayab\", 202102048, 19, \"BSCPE\", \"CvSU\")\n",
        "student.info()"
      ],
      "metadata": {
        "colab": {
          "base_uri": "https://localhost:8080/"
        },
        "id": "6PEytDNT40Me",
        "outputId": "e0760c42-e25b-4adc-ab40-781166d754b4"
      },
      "execution_count": 36,
      "outputs": [
        {
          "output_type": "stream",
          "name": "stdout",
          "text": [
            "Dirk M Tayab,  202102048 19 BSCPE CvSU\n"
          ]
        }
      ]
    },
    {
      "cell_type": "code",
      "source": [
        "class OOP_1_1():\n",
        "    def __init__(self, fname, student_no, age, course, school):\n",
        "      self.fname = fname\n",
        "      self.student_no = student_no\n",
        "      self.age = age\n",
        "      self.course = course\n",
        "      self.school = school\n",
        "    \n",
        "    def info(self):\n",
        "      print(\"Name: \", self.fname)\n",
        "      print(\"School Number: \", self.student_no)\n",
        "      print(\"Age: \", self.age)\n",
        "      print(\"Course: \", self.course)\n",
        "      print(\"School: \", self.school)\n",
        "\n",
        "student = OOP_1_1(\"Dirk M Tayab\", 202102048, 19, \"BSCPE\", \"CvSU\")\n",
        "student.info()"
      ],
      "metadata": {
        "colab": {
          "base_uri": "https://localhost:8080/"
        },
        "id": "7QrE2evP2pQ7",
        "outputId": "a0434d9e-dcf9-4b93-e251-ca0587a299e8"
      },
      "execution_count": 26,
      "outputs": [
        {
          "output_type": "stream",
          "name": "stdout",
          "text": [
            "Name:  Dirk M Tayab\n",
            "School Number:  202102048\n",
            "Age:  19\n",
            "Course:  BSCPE\n",
            "School:  CvSU\n"
          ]
        }
      ]
    }
  ]
}