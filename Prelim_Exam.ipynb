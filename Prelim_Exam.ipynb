{
  "nbformat": 4,
  "nbformat_minor": 0,
  "metadata": {
    "colab": {
      "name": "Prelim Exam",
      "provenance": [],
      "authorship_tag": "ABX9TyN7Oqixx+kp45Zu80+2NXUp",
      "include_colab_link": true
    },
    "kernelspec": {
      "name": "python3",
      "display_name": "Python 3"
    },
    "language_info": {
      "name": "python"
    }
  },
  "cells": [
    {
      "cell_type": "markdown",
      "metadata": {
        "id": "view-in-github",
        "colab_type": "text"
      },
      "source": [
        "<a href=\"https://colab.research.google.com/github/DirkTayab/OOP-1-1/blob/main/Prelim_Exam.ipynb\" target=\"_parent\"><img src=\"https://colab.research.google.com/assets/colab-badge.svg\" alt=\"Open In Colab\"/></a>"
      ]
    },
    {
      "cell_type": "markdown",
      "source": [
        "Problem 2"
      ],
      "metadata": {
        "id": "ro39t40WGIRe"
      }
    },
    {
      "cell_type": "code",
      "source": [
        "class Student:\n",
        "  def __init__(self, Name, Student_No, Age, School, Course):\n",
        "    self.Name = Name\n",
        "    self.Student_No = Student_No\n",
        "    self.Age = Age\n",
        "    self.School = School\n",
        "    self.Course = Course\n",
        "\n",
        "  def Info(self):\n",
        "    print(\"Name: \", self.Name)\n",
        "    print(\"Student No: \", self.Student_No)\n",
        "    print(\"Age: \", self.Age)\n",
        "    print(\"School: \", self.School)\n",
        "    print(\"Course: \", self.Course)\n",
        "\n",
        "Myself = Student(\"Dirk M. Tayab\", 202102048, 19, \"Cavite State University\", \"BS Computer Engineering\")\n",
        "Myself.Info()"
      ],
      "metadata": {
        "colab": {
          "base_uri": "https://localhost:8080/"
        },
        "id": "JJSeoebnGKIx",
        "outputId": "2fd5ef63-9ee5-480a-830a-9c8cb0b01c6f"
      },
      "execution_count": 44,
      "outputs": [
        {
          "output_type": "stream",
          "name": "stdout",
          "text": [
            "Name:  Dirk M. Tayab\n",
            "Student No:  202102048\n",
            "Age:  19\n",
            "School:  Cavite State University\n",
            "Course:  BS Computer Engineering\n"
          ]
        }
      ]
    }
  ]
}