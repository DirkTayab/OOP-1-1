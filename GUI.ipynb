{
  "nbformat": 4,
  "nbformat_minor": 0,
  "metadata": {
    "colab": {
      "name": "GUI.ipynb",
      "provenance": [],
      "authorship_tag": "ABX9TyNPt7nZydjvjKaYUx4RIdcU",
      "include_colab_link": true
    },
    "kernelspec": {
      "name": "python3",
      "display_name": "Python 3"
    },
    "language_info": {
      "name": "python"
    }
  },
  "cells": [
    {
      "cell_type": "markdown",
      "metadata": {
        "id": "view-in-github",
        "colab_type": "text"
      },
      "source": [
        "<a href=\"https://colab.research.google.com/github/DirkTayab/OOP-1-1/blob/main/GUI.ipynb\" target=\"_parent\"><img src=\"https://colab.research.google.com/assets/colab-badge.svg\" alt=\"Open In Colab\"/></a>"
      ]
    },
    {
      "cell_type": "code",
      "execution_count": 6,
      "metadata": {
        "id": "0DS4LwboSjUT",
        "colab": {
          "base_uri": "https://localhost:8080/"
        },
        "outputId": "fc331fb2-7a00-4a61-f6a1-dda87c7b6a67"
      },
      "outputs": [
        {
          "output_type": "stream",
          "name": "stdout",
          "text": [
            "Prelims:  91\n",
            "Midterms:  95\n",
            "Finals:  96\n",
            "Semestral Grade:  94.0\n",
            "Gender:  Male\n",
            "BirthDate:  2002-12-29\n"
          ]
        }
      ],
      "source": [
        "Student_Name =  \"Dirk M. Tayab\" #@param {type: \"string\"}\n",
        "Prelims = 91 #@param {type: \"integer\"}\n",
        "Midterms = 95 #@param {type: \"integer\"}\n",
        "Finals = 96 #@param {type: \"integer\"}\n",
        "Semestral_Grade = (Prelims + Midterms + Finals)/3\n",
        "\n",
        "print(\"Prelims: \", str(Prelims))\n",
        "print(\"Midterms: \", str(Midterms))\n",
        "print(\"Finals: \", str(Finals))\n",
        "print(\"Semestral Grade: \", str(round(Semestral_Grade,2)))\n",
        "\n",
        "\n",
        "Gender = \"Male\" #@ [\"Male\", \"Female\"]\n",
        "BirthDate = \"2002-12-29\" #@param {type: \"date\"}\n",
        "\n",
        "print(\"Gender: \", str(Gender))\n",
        "print(\"BirthDate: \", str(BirthDate))"
      ]
    }
  ]
}